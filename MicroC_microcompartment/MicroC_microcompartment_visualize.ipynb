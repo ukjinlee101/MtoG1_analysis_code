{
 "cells": [
  {
   "cell_type": "markdown",
   "id": "0195bed2-f855-4695-b3a4-57610de4a4a0",
   "metadata": {},
   "source": [
    "## Setting"
   ]
  },
  {
   "cell_type": "code",
   "execution_count": 1,
   "id": "1a39189f-395a-434b-80e7-ba33f17cf17c",
   "metadata": {},
   "outputs": [],
   "source": [
    "%load_ext autoreload\n",
    "%autoreload 2\n",
    "\n",
    "import warnings\n",
    "warnings.simplefilter(\"ignore\", category=FutureWarning)"
   ]
  },
  {
   "cell_type": "code",
   "execution_count": 2,
   "id": "5ce6c638",
   "metadata": {},
   "outputs": [
    {
     "name": "stdout",
     "output_type": "stream",
     "text": [
      "/Volumes/UKJIN_SSD/MtoG1_analysis_code\n",
      "/Volumes/UKJIN_SSD/MtoG1_analysis_code\n"
     ]
    }
   ],
   "source": [
    "import os\n",
    "os.chdir(\"./MtoG1_analysis_code\")\n",
    "print(os.getcwd())\n",
    "!pwd"
   ]
  },
  {
   "cell_type": "code",
   "execution_count": 3,
   "id": "ede785c8-09e5-4ced-b076-12980292f054",
   "metadata": {},
   "outputs": [],
   "source": [
    "# Import standard python libraries\n",
    "import matplotlib as mpl\n",
    "%matplotlib inline\n",
    "mpl.rcParams['figure.dpi'] = 300\n",
    "import numpy as np\n",
    "import matplotlib.pyplot as plt\n",
    "import pandas as pd\n",
    "import seaborn as sns\n",
    "import os, subprocess"
   ]
  },
  {
   "cell_type": "code",
   "execution_count": 4,
   "id": "a11d2fd7-81e0-4f5d-aa60-018c3ea1ee16",
   "metadata": {},
   "outputs": [],
   "source": [
    "from coolpuppy import coolpup\n",
    "from coolpuppy.lib import numutils\n",
    "from coolpuppy.lib.puputils import divide_pups\n",
    "from coolpuppy import plotpup\n",
    "import cooler\n",
    "import bioframe\n",
    "import cooltools\n",
    "from cooltools import expected_cis, expected_trans\n",
    "from cooltools.lib import plotting"
   ]
  },
  {
   "cell_type": "markdown",
   "id": "b2892a54-c8a1-4b30-835e-7a1234434417",
   "metadata": {},
   "source": [
    "# Functions for generalization"
   ]
  },
  {
   "cell_type": "code",
   "execution_count": null,
   "id": "aaab4790-1ab7-4094-9c88-0edcba9334dd",
   "metadata": {},
   "outputs": [],
   "source": [
    "import copy\n",
    "\n",
    "def callAPAoverLoop(coolFileDir, coolFileName, loopFileDir, loopFileName, minDiag, byDistance, balance, ooe):\n",
    "\t# minDist = minimun distance in kb to plot in APA\n",
    "\t# Load cool file\n",
    "\tcool_file = coolFileDir + '/' + coolFileName + '_KR.cool'\n",
    "\tclr = cooler.Cooler(f'{cool_file}')\n",
    "\t# Load loop file\n",
    "\tloop_file = loopFileDir + '/' + loopFileName + '.bedpe'\n",
    "\tloop = pd.read_csv(loop_file, sep = '\\t', header = None).iloc[:, :6]\n",
    "\tloop.columns = ['chrom1', 'start1', 'end1', 'chrom2', 'start2', 'end2']\n",
    "\t# Load expected table\n",
    "\texp_file = coolFileDir + '/' + coolFileName + '_KR_exp.tsv'\n",
    "\texp_df = pd.read_csv(exp_file, delimiter='\\t')\n",
    "\n",
    "\t# keep loop count\n",
    "\tnloops = len(loop)\n",
    "\t\n",
    "\t# Pileup\n",
    "\tif ooe:\n",
    "\t\tpup = coolpup.pileup(clr, loop, features_format = 'bedpe',\n",
    "\t\t\t\t\t\t\t min_diag = minDiag, by_distance = byDistance,\n",
    "\t\t\t\t\t\t\t nproc = 12, \n",
    "\t\t\t\t\t\t\t clr_weight_name = balance,\n",
    "\t\t\t\t\t\t\t ooe = True, expected_df = exp_df)\n",
    "\telse:\n",
    "\t\t pup = coolpup.pileup(clr, loop, features_format = 'bedpe',\n",
    "\t\t\t\t\t\t\t min_diag = minDiag, by_distance = byDistance,\n",
    "\t\t\t\t\t\t\t nproc = 12, \n",
    "\t\t\t\t\t\t\t clr_weight_name = balance,\n",
    "\t\t\t\t\t\t\t ooe = False)       \n",
    "\treturn pup, nloops\n",
    "\n",
    "def get_corner_score(pup, flank = 1):\n",
    "\tamap = pup[\"data\"][0]\n",
    "\tc = amap.shape[0] / (flank*2 + 1)\n",
    "\tc = int(c)\n",
    "\tcentral = np.nanmean(amap[flank*c:-flank:c, flank*c:-flank*c])\n",
    "\ttopRight = np.nanmean(amap[:c, -c:])\n",
    "\tcornerScore = central/topRight\n",
    "\treturn cornerScore, central, topRight\n",
    "\n",
    "\n",
    "def drawAPA(pup, nloops, scale, colormap, vmax, vmin, fileDir, fileName):\n",
    "\tpuptemp = copy.deepcopy(pup)\n",
    "\tif scale == 'log10':\n",
    "\t\tpuptemp.data[0] = np.log10(puptemp.data[0])\n",
    "\t# Make figure\n",
    "\t# Enrichment score is calculated by ratio of C(obs/exp) to R (obs/exp) before doing any form of log transform\n",
    "\tcorner = str(round(get_corner_score(pup, flank = 2)[0], 2))\n",
    "\t\n",
    "\tif vmax == False:\n",
    "\t\tfg1 = plotpup.plot(puptemp,\n",
    "\t\t\t\t\t\t   cmap = colormap,\n",
    "\t\t\t\t\t\t   score = False, \n",
    "\t\t\t\t\t\t   scale = 'linear', height = 1, plot_ticks = True, font_scale = 0.8)\n",
    "\t\tax = fg1.ax\n",
    "\t\tax.text(\n",
    "\t\t\t0.95, 0.95,                   # 95% from left, 95% from bottom\n",
    "\t\t\tf\"corner score: {corner}\",\n",
    "\t\t\tva=\"top\", ha=\"right\",\n",
    "\t\t\ttransform=ax.transAxes,       # ← important!\n",
    "\t\t\tsize=4\n",
    "\t\t)\n",
    "\t\tax.text(\n",
    "\t\t\t0.95, 0.85,\n",
    "\t\t\tf\"n loops: {nloops}\",\n",
    "\t\t\tva=\"top\", ha=\"right\",\n",
    "\t\t\ttransform=ax.transAxes,\n",
    "\t\t\tsize=4\n",
    "\t\t)\n",
    "\telse:\n",
    "\t\tfg1 = plotpup.plot(puptemp,\n",
    "\t\t\t\t   cmap = colormap,\n",
    "\t\t\t\t   score = False, vmax = vmax, vmin = vmin,\n",
    "\t\t\t\t   scale = 'linear', height = 1, plot_ticks = True, font_scale = 0.8)\n",
    "\t\tax = fg1.ax\n",
    "\t\tax.text(\n",
    "\t\t\t0.95, 0.95,                   # 95% from left, 95% from bottom\n",
    "\t\t\tf\"corner score: {corner}\",\n",
    "\t\t\tva=\"top\", ha=\"right\",\n",
    "\t\t\ttransform=ax.transAxes,       # ← important!\n",
    "\t\t\tsize=4\n",
    "\t\t)\n",
    "\t\tax.text(\n",
    "\t\t\t0.95, 0.85,\n",
    "\t\t\tf\"n loops: {nloops}\",\n",
    "\t\t\tva=\"top\", ha=\"right\",\n",
    "\t\t\ttransform=ax.transAxes,\n",
    "\t\t\tsize=4\n",
    "\t\t)\n",
    "\tfile = fileDir + '/' + fileName + '.svg'\n",
    "\tfg1.savefig(file, format = 'svg')\n",
    "\treturn True\n"
   ]
  },
  {
   "cell_type": "markdown",
   "id": "59e1f0e1-faba-42d1-a636-95fa11c230a4",
   "metadata": {},
   "source": [
    "# APA plot"
   ]
  },
  {
   "cell_type": "code",
   "execution_count": 6,
   "id": "082a92db-982b-49c1-8a97-d5fe532e2b3d",
   "metadata": {},
   "outputs": [],
   "source": [
    "# LOADING COOL FILE\n",
    "coolDir = '/Volumes/UKJIN_SSD/data/cool_norm_pooled'\n",
    "figDir = '/Volumes/UKJIN_SSD/figure/microcompartment'\n",
    "loopDir = '/Volumes/UKJIN_SSD/data/microcompartment'\n",
    "\n",
    "os.makedirs(figDir, exist_ok=True)\n"
   ]
  },
  {
   "cell_type": "code",
   "execution_count": null,
   "id": "85c010e5-4417-4637-adfe-ac8983a6ec04",
   "metadata": {},
   "outputs": [
    {
     "name": "stdout",
     "output_type": "stream",
     "text": [
      "Failed to process G1DMSO_pooled at resolution 10000\n",
      "Failed to process G1dTAG_pooled at resolution 10000\n",
      "Failed to process G1DMSO_pooled at resolution 10000\n",
      "Failed to process G1dTAG_pooled at resolution 10000\n"
     ]
    }
   ],
   "source": [
    "for res in ['10000']:\n",
    "\tfor sample in ['G1DMSO_pooled', 'G1dTAG_pooled']:\n",
    "\t\ttry:\n",
    "\t\t\tpup, nloops = callAPAoverLoop(coolDir, sample + '_' + str(res) + 'bp',\n",
    "\t\t\t\t\tloopDir, 'G1DMSO_pooled_microcompartment_' + res + 'bp',\n",
    "\t\t\t\t\tminDiag = 2, byDistance = False,\n",
    "\t\t\t\t\tbalance = 'weight', ooe = True)\n",
    "\t\t\tfileName = 'APA_' + sample + '_microcompartment_G1DMSOcalled_' + res + 'bp'\n",
    "\t\t\tdrawAPA(pup, nloops, scale = 'log10', colormap = 'coolwarm', vmax = False, vmin = False,\n",
    "\t\t\t\t\tfileDir = figDir, fileName = fileName)\n",
    "\t\t\t# drawAPA(pup, nloops, scale = 'log10', colormap = 'coolwarm', vmax = 1, vmin = 0,\n",
    "\t\t\t#           fileDir = figDir, fileName = fileName + '_minmax')\n",
    "\t\texcept:\n",
    "\t\t\tprint(f\"Failed to process {sample} at resolution {res}\")\n",
    "\t\t\tcontinue\n",
    "\n",
    "for res in ['10000']:\n",
    "\tfor sample in ['G1DMSO_pooled', 'G1dTAG_pooled']:\n",
    "\t\ttry:\n",
    "\t\t\tpup, nloops = callAPAoverLoop(coolDir, sample + '_' + str(res) + 'bp',\n",
    "\t\t\t\t\tloopDir, 'G1dTAG_pooled_microcompartment_' + res + 'bp',\n",
    "\t\t\t\t\tminDiag = 2, byDistance = False,\n",
    "\t\t\t\t\tbalance = 'weight', ooe = True)\n",
    "\t\t\tfileName = 'APA_' + sample + '_microcompartment_G1dTAGcalled_' + res + 'bp'\n",
    "\t\t\tdrawAPA(pup, nloops, scale = 'log10', colormap = 'coolwarm', vmax = False, vmin = False,\n",
    "\t\t\t\t\tfileDir = figDir, fileName = fileName)\n",
    "\t\t\t# drawAPA(pup, nloops, scale = 'log10', colormap = 'coolwarm', vmax = 1, vmin = 0,\n",
    "\t\t\t#           fileDir = figDir, fileName = fileName + '_minmax')\n",
    "\t\texcept:\n",
    "\t\t\tprint(f\"Failed to process {sample} at resolution {res}\")\n",
    "\t\t\tcontinue\n"
   ]
  }
 ],
 "metadata": {
  "kernelspec": {
   "display_name": "Python 3 (ipykernel)",
   "language": "python",
   "name": "python3"
  },
  "language_info": {
   "codemirror_mode": {
    "name": "ipython",
    "version": 3
   },
   "file_extension": ".py",
   "mimetype": "text/x-python",
   "name": "python",
   "nbconvert_exporter": "python",
   "pygments_lexer": "ipython3",
   "version": "3.12.4"
  }
 },
 "nbformat": 4,
 "nbformat_minor": 5
}
