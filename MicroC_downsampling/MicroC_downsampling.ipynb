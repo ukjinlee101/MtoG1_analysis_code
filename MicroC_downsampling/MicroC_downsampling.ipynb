{
 "cells": [
  {
   "cell_type": "markdown",
   "id": "89fb195a",
   "metadata": {},
   "source": [
    "# Downsampling\n",
    "Downsampling Micro-C to EpiLC G1 DMSO which has the least valid read pairs (474,973,552)"
   ]
  },
  {
   "cell_type": "code",
   "execution_count": 6,
   "id": "86f50cd1",
   "metadata": {},
   "outputs": [
    {
     "name": "stdout",
     "output_type": "stream",
     "text": [
      "Using 10 CPU cores.\n"
     ]
    }
   ],
   "source": [
    "# Standard library imports\n",
    "import os\n",
    "import warnings\n",
    "from itertools import combinations\n",
    "from multiprocessing import Pool\n",
    "import subprocess\n",
    "\n",
    "# Third-party imports\n",
    "import numpy as np\n",
    "import pandas as pd\n",
    "import matplotlib.pyplot as plt\n",
    "from matplotlib import colors\n",
    "import bioframe\n",
    "import cooler\n",
    "import cooltools\n",
    "from packaging import version\n",
    "\n",
    "# Jupyter magic (only in notebooks)\n",
    "%matplotlib inline\n",
    "\n",
    "# ------------------------------------------------------------------------------\n",
    "# Configuration\n",
    "# ------------------------------------------------------------------------------\n",
    "\n",
    "# Suppress non-critical warnings\n",
    "warnings.filterwarnings('ignore')\n",
    "\n",
    "# Determine number of CPUs\n",
    "num_cpus = os.cpu_count() or 1\n",
    "\n",
    "print(f'Using {num_cpus} CPU core{'s' if num_cpus > 1 else ''}.')\n",
    "\n",
    "os.chdir(\"/Volumes/UKJIN_SSD/MtoG1_analysis_code\")"
   ]
  },
  {
   "cell_type": "markdown",
   "id": "7638f6ed",
   "metadata": {},
   "source": [
    "## Parameters"
   ]
  },
  {
   "cell_type": "code",
   "execution_count": 7,
   "id": "77a19e79",
   "metadata": {},
   "outputs": [],
   "source": [
    "REFDIR = '../reference'\n",
    "SCRDIR = 'script'\n",
    "\n",
    "# Use bioframe to fetch the genomic features from the UCSC.\n",
    "mm10_chromsizes = bioframe.fetch_chromsizes('mm10')\n",
    "mm10_cens = pd.read_csv(f'{REFDIR}/mm10/mm10.centromere.txt', sep = '\\t')\n",
    "\n",
    "# create a view with chromosome arms using chromosome sizes and definition of centromeres\n",
    "mm10_arms = bioframe.make_chromarms(mm10_chromsizes,  mm10_cens)\n"
   ]
  },
  {
   "cell_type": "markdown",
   "id": "9e9dd85f",
   "metadata": {},
   "source": [
    "## Downsampling"
   ]
  },
  {
   "cell_type": "code",
   "execution_count": 8,
   "id": "e05920d1",
   "metadata": {},
   "outputs": [],
   "source": [
    "MCOOLDIR = '../data/mcool_pooled'\n",
    "COOLDIR = '../data/cool_norm_pooled'"
   ]
  },
  {
   "cell_type": "code",
   "execution_count": null,
   "id": "0159b121",
   "metadata": {},
   "outputs": [
    {
     "name": "stdout",
     "output_type": "stream",
     "text": [
      "G1DMSO_pooled valid readcounts in 5kb: 1387814791.0\n",
      "G1dTAG_pooled valid readcounts in 5kb: 1235278421.0\n"
     ]
    }
   ],
   "source": [
    "RES = '5000'\n",
    "\n",
    "NAMES = [\n",
    "    # 'G1DMSO_pooled',\n",
    "    # 'G1dTAG_pooled',\n",
    "    'G1A485_pooled',\n",
    "    'GSE178982_AsyncUT_pooled',\n",
    "    'GSE178982_AsyncAID_pooled',\n",
    "    # 'EpiG1DMSO_pooled',\n",
    "    # 'EpiG1dTAG_pooled'\n",
    "]\n",
    "\n",
    "\n",
    "# NAME = 'EpiG1DMSO_pooled'\n",
    "for NAME in NAMES:\n",
    "\tpre_norm = cooler.Cooler(f'{COOLDIR}/{NAME}_{RES}bp_KR.cool')\n",
    "\tprint(f'{NAME} valid readcounts in 5kb: {pre_norm.info['sum']}')\n"
   ]
  },
  {
   "cell_type": "code",
   "execution_count": 10,
   "id": "7ae7a6e5",
   "metadata": {},
   "outputs": [],
   "source": [
    "DSCOUNT = 589828407"
   ]
  },
  {
   "cell_type": "code",
   "execution_count": null,
   "id": "75ce7876",
   "metadata": {},
   "outputs": [
    {
     "name": "stdout",
     "output_type": "stream",
     "text": [
      "prenorm: 1387814791.0\n",
      "sampling fraction: 0.42500513096203196\n",
      "sampling to ../data/cool_norm_pooled/G1DMSO_pooled_5000bp_downsampled-589M_KR.cool\n",
      "normalizing ../data/cool_norm_pooled/G1DMSO_pooled_5000bp_downsampled-589M_KR.cool\n"
     ]
    },
    {
     "name": "stderr",
     "output_type": "stream",
     "text": [
      "INFO:root:creating a Pool of 10 workers\n",
      "/Users/ukjinlee/micromamba/envs/jupyterlab_cooltools/lib/python3.12/site-packages/cooltools/api/expected.py:351: FutureWarning: The default of observed=False is deprecated and will be changed to True in a future version of pandas. Pass observed=False to retain current behavior or observed=True to adopt the future default and silence this warning.\n",
      "  groups = dict(iter(bins.groupby(\"chrom\")[clr_weight_name]))\n"
     ]
    },
    {
     "name": "stdout",
     "output_type": "stream",
     "text": [
      "prenorm: 1235278421.0\n",
      "sampling fraction: 0.47748620632627403\n",
      "sampling to ../data/cool_norm_pooled/G1dTAG_pooled_5000bp_downsampled-589M_KR.cool\n",
      "normalizing ../data/cool_norm_pooled/G1dTAG_pooled_5000bp_downsampled-589M_KR.cool\n"
     ]
    },
    {
     "name": "stderr",
     "output_type": "stream",
     "text": [
      "INFO:root:creating a Pool of 10 workers\n",
      "/Users/ukjinlee/micromamba/envs/jupyterlab_cooltools/lib/python3.12/site-packages/cooltools/api/expected.py:351: FutureWarning: The default of observed=False is deprecated and will be changed to True in a future version of pandas. Pass observed=False to retain current behavior or observed=True to adopt the future default and silence this warning.\n",
      "  groups = dict(iter(bins.groupby(\"chrom\")[clr_weight_name]))\n"
     ]
    }
   ],
   "source": [
    "for NAME in NAMES:\n",
    "    # paths\n",
    "    subsampled = f'{COOLDIR}/{NAME}_{RES}bp_downsampled-{DSCOUNT//1_000_000}M_KR.cool'\n",
    "\n",
    "    # calculate subsampling fraction\n",
    "    pre_norm = cooler.Cooler(f'{COOLDIR}/{NAME}_{RES}bp_KR.cool')\n",
    "    frac = DSCOUNT / pre_norm.info['sum']\n",
    "    print(f'prenorm: {pre_norm.info['sum']}')\n",
    "    print(f'sampling fraction: {frac}')\n",
    "    \n",
    "    1) subsample if needed\n",
    "    if not os.path.exists(subsampled):\n",
    "        print(f'sampling to {subsampled}')\n",
    "        mc = cooler.Cooler(f'{MCOOLDIR}/{NAME}_allRes.mcool::/resolutions/{RES}')\n",
    "        cooltools.sample(mc,\n",
    "                         out_clr_path=subsampled,\n",
    "                         frac=frac,\n",
    "                         nproc=num_cpus)\n",
    "        \n",
    "        script = os.path.join(SCRDIR, 'normCool.sh')\n",
    "        print(f'normalizing {subsampled}')\n",
    "        subprocess.run([script, subsampled, str(num_cpus)], check=True)\n",
    "    else:\n",
    "        print(f'skipping sample (exists): {subsampled}')\n",
    "\n",
    "\n"
   ]
  },
  {
   "cell_type": "markdown",
   "id": "6dba729f",
   "metadata": {},
   "source": []
  }
 ],
 "metadata": {
  "kernelspec": {
   "display_name": "Python 3 (ipykernel)",
   "language": "python",
   "name": "python3"
  },
  "language_info": {
   "codemirror_mode": {
    "name": "ipython",
    "version": 3
   },
   "file_extension": ".py",
   "mimetype": "text/x-python",
   "name": "python",
   "nbconvert_exporter": "python",
   "pygments_lexer": "ipython3",
   "version": "3.12.4"
  }
 },
 "nbformat": 4,
 "nbformat_minor": 5
}
