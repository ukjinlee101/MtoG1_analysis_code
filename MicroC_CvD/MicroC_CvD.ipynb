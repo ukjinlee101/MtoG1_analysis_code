{
 "cells": [
  {
   "cell_type": "markdown",
   "id": "d7545eae",
   "metadata": {},
   "source": [
    "# Micro-C Contact vs Distance plot\n",
    "\n",
    "Reference (https://cooltools.readthedocs.io/en/latest/notebooks/contacts_vs_distance.html)"
   ]
  },
  {
   "cell_type": "code",
   "execution_count": 1,
   "id": "a224d17e-1f2e-4d86-aad1-066d587b0b5f",
   "metadata": {
    "scrolled": true
   },
   "outputs": [],
   "source": [
    "# INSTALL REQUIRED PACKAGES\n",
    "\n",
    "#!pip install cooltools==0.7.0\n",
    "#!pip install seaborn\n",
    "#!pip install cooler"
   ]
  },
  {
   "cell_type": "code",
   "execution_count": 1,
   "id": "1c1d93ce-6f10-4677-b2cf-46de83eb2285",
   "metadata": {},
   "outputs": [
    {
     "name": "stdout",
     "output_type": "stream",
     "text": [
      "Using 10 CPU cores.\n"
     ]
    }
   ],
   "source": [
    "# Standard library imports\n",
    "import os\n",
    "import warnings\n",
    "from itertools import combinations\n",
    "from multiprocessing import Pool\n",
    "import subprocess\n",
    "\n",
    "# Third-party imports\n",
    "import numpy as np\n",
    "import pandas as pd\n",
    "import matplotlib.pyplot as plt\n",
    "from matplotlib import colors\n",
    "import bioframe\n",
    "import cooler\n",
    "import cooltools\n",
    "from packaging import version\n",
    "\n",
    "# Jupyter magic (only in notebooks)\n",
    "%matplotlib inline\n",
    "\n",
    "# ------------------------------------------------------------------------------\n",
    "# Configuration\n",
    "# ------------------------------------------------------------------------------\n",
    "\n",
    "# Suppress non-critical warnings\n",
    "warnings.filterwarnings('ignore')\n",
    "\n",
    "# Determine number of CPUs\n",
    "num_cpus = os.cpu_count() or 1\n",
    "\n",
    "print(f'Using {num_cpus} CPU core{'s' if num_cpus > 1 else ''}.')"
   ]
  },
  {
   "cell_type": "markdown",
   "id": "864b349d",
   "metadata": {},
   "source": [
    "## Parameters"
   ]
  },
  {
   "cell_type": "code",
   "execution_count": 2,
   "id": "3ed933cd-733e-4560-bead-0583836f64c4",
   "metadata": {},
   "outputs": [],
   "source": [
    "REFDIR = 'reference'\n",
    "WORKDIR = 'MicroC_CvD'\n",
    "\n",
    "# Use bioframe to fetch the genomic features from the UCSC.\n",
    "mm10_chromsizes = bioframe.fetch_chromsizes('mm10')\n",
    "mm10_cens = pd.read_csv(f'{REFDIR}/mm10/mm10.centromere.txt', sep = '\\t')\n",
    "\n",
    "# create a view with chromosome arms using chromosome sizes and definition of centromeres\n",
    "mm10_arms = bioframe.make_chromarms(mm10_chromsizes,  mm10_cens)\n"
   ]
  },
  {
   "cell_type": "markdown",
   "id": "6951c503",
   "metadata": {},
   "source": [
    "## Calculating CvD with downsampled matrix\n",
    "All samples will be downsampled to same readcount and KR normalized for proper comparison."
   ]
  },
  {
   "cell_type": "code",
   "execution_count": 3,
   "id": "21bfe0c6",
   "metadata": {},
   "outputs": [],
   "source": [
    "def process_cvd(MCOOLDIR, COOLDIR, OUTDIR, NAME, RES, DSCOUNT, mm10_arms, num_cpus, WORKDIR):\n",
    "    '''\n",
    "    1. Subsamples the merged .mcool at resolution RES to DSCOUNT reads (if needed)\n",
    "    2. KR-normalizes the subsampled matrix via normCool.sh (if needed)\n",
    "    3. Computes the expected cis-decay curve, smooths it, masks dist<2, \n",
    "       merges duplicates, and writes out both the merged curve and its log-log derivative.\n",
    "\n",
    "    Parameters\n",
    "    ----------\n",
    "    MCOOLDIR : str\n",
    "        Path to the pooled .mcool file (expects {NAME}_allRes.mcool).\n",
    "    COOLDIR : str\n",
    "        Directory for normalized/downsamped .cool files.\n",
    "    OUTDIR : str\n",
    "        Directory for output TSVs.\n",
    "    NAME : str\n",
    "        Sample name prefix.\n",
    "    RES : int\n",
    "        Resolution in bp.\n",
    "    DSCOUNT : int\n",
    "        Number of contacts to subsample (e.g. 5_000_000).\n",
    "    mm10_arms : pd.DataFrame\n",
    "        A view_df defining chromosome arms.\n",
    "    num_cpus : int\n",
    "        Number of processes to use for cooltools.sample and expected_cis.\n",
    "    WORKDIR : str\n",
    "        Directory containing `normCool.sh`.\n",
    "    '''\n",
    "    os.makedirs(OUTDIR, exist_ok=True)\n",
    "\n",
    "    # paths\n",
    "    subsampled = f'{COOLDIR}/{NAME}_{RES}bp_downsampled-{DSCOUNT//1_000_000}M.cool'\n",
    "    normalized = f'{COOLDIR}/{NAME}_{RES}bp_downsampled-{DSCOUNT//1_000_000}M_KR.cool'\n",
    "\n",
    "    # calculate subsampling fraction\n",
    "    pre_norm = cooler.Cooler(f'{COOLDIR}/{NAME}_{RES}bp_KR.cool')\n",
    "    frac = DSCOUNT / pre_norm.info['sum']\n",
    "    print(f'prenorm: {pre_norm.info['sum']}')\n",
    "    print(f'sampling fraction: {frac}')\n",
    "    \n",
    "    # 1) subsample if needed\n",
    "    if not os.path.exists(subsampled):\n",
    "        print(f'sampling to {subsampled}')\n",
    "        mc = cooler.Cooler(f'{MCOOLDIR}/{NAME}_allRes.mcool::/resolutions/{RES}')\n",
    "        cooltools.sample(mc,\n",
    "                         out_clr_path=subsampled,\n",
    "                         frac=frac,\n",
    "                         nproc=num_cpus)\n",
    "    else:\n",
    "        print(f'skipping sample (exists): {subsampled}')\n",
    "\n",
    "    # 2) KR-normalize if needed\n",
    "    if not os.path.exists(normalized):\n",
    "        script = os.path.join(WORKDIR, 'normCool.sh')\n",
    "        print(f'normalizing to {normalized}')\n",
    "        subprocess.run([script, subsampled, normalized], check=True)\n",
    "    else:\n",
    "        print(f'skipping normalize (exists): {normalized}')\n",
    "\n",
    "    # 3) compute expected cis-decay curve\n",
    "    clr = cooler.Cooler(normalized)\n",
    "    cvd = cooltools.expected_cis(\n",
    "        clr=clr,\n",
    "        view_df=mm10_arms,\n",
    "        smooth=True,\n",
    "        aggregate_smoothed=True,\n",
    "        smooth_sigma=0.1,\n",
    "        nproc=num_cpus\n",
    "    )\n",
    "\n",
    "    # write smoothed curve\n",
    "    out_smooth = os.path.join(\n",
    "        OUTDIR,\n",
    "        f'{NAME}_{RES}bp_downsampled-{DSCOUNT//1_000_000}M_cvd_smooth.tsv'\n",
    "    )\n",
    "    cvd.to_csv(out_smooth, sep='\\t', index=False)\n",
    "\n",
    "    # mask dist<2\n",
    "    mask = cvd['dist'] < 2\n",
    "    cvd.loc[mask, ['balanced.avg.smoothed',\n",
    "                   'balanced.avg.smoothed.agg']] = np.nan\n",
    "\n",
    "    # merge duplicates & save\n",
    "    cvd_merged = cvd.drop_duplicates(subset=['dist'])[\n",
    "        ['dist_bp', 'balanced.avg.smoothed.agg']\n",
    "    ]\n",
    "    out_merged = os.path.join(\n",
    "        OUTDIR,\n",
    "        f'{NAME}_{RES}bp_downsampled-{DSCOUNT//1_000_000}M_cvd_smooth_merged.tsv'\n",
    "    )\n",
    "    cvd_merged.to_csv(out_merged, sep='\\t', index=False)\n",
    "\n",
    "    # derivative in log-log space & save\n",
    "    der = np.gradient(\n",
    "        np.log(cvd_merged['balanced.avg.smoothed.agg']),\n",
    "        np.log(cvd_merged['dist_bp'])\n",
    "    )\n",
    "    der_df = pd.DataFrame({'derivative': der})\n",
    "    out_deriv = os.path.join(\n",
    "        OUTDIR,\n",
    "        f'{NAME}_{RES}bp_downsampled-{DSCOUNT//1_000_000}M_cvd_smooth_merged_derivative.tsv'\n",
    "    )\n",
    "    der_df.to_csv(out_deriv, sep='\\t', index=False)\n",
    "\n",
    "    print('Done.')\n",
    "    return cvd, cvd_merged, der_df"
   ]
  },
  {
   "cell_type": "code",
   "execution_count": 11,
   "id": "ec6ca36d",
   "metadata": {},
   "outputs": [
    {
     "name": "stdout",
     "output_type": "stream",
     "text": [
      "Processing GSE178982_AsyncUT_pooled…\n",
      "prenorm: 1820340.4290344473\n",
      "sampling fraction: 2.7467389726943114\n",
      "sampling to ../data/cool_norm_pooled/GSE178982_AsyncUT_pooled_1000bp_downsampled-5M.cool\n"
     ]
    },
    {
     "name": "stderr",
     "output_type": "stream",
     "text": [
      "INFO:root:creating a Pool of 10 workers\n"
     ]
    },
    {
     "ename": "ValueError",
     "evalue": "The number of contacts in a sample cannot exceed that in the original dataset.",
     "output_type": "error",
     "traceback": [
      "\u001b[0;31m---------------------------------------------------------------------------\u001b[0m",
      "\u001b[0;31mValueError\u001b[0m                                Traceback (most recent call last)",
      "Cell \u001b[0;32mIn[11], line 16\u001b[0m\n\u001b[1;32m     14\u001b[0m \u001b[38;5;28;01mfor\u001b[39;00m name \u001b[38;5;129;01min\u001b[39;00m names:\n\u001b[1;32m     15\u001b[0m     \u001b[38;5;28mprint\u001b[39m(\u001b[38;5;124mf\u001b[39m\u001b[38;5;124m\"\u001b[39m\u001b[38;5;124mProcessing \u001b[39m\u001b[38;5;132;01m{\u001b[39;00mname\u001b[38;5;132;01m}\u001b[39;00m\u001b[38;5;124m…\u001b[39m\u001b[38;5;124m\"\u001b[39m)\n\u001b[0;32m---> 16\u001b[0m     \u001b[43mprocess_cvd\u001b[49m\u001b[43m(\u001b[49m\n\u001b[1;32m     17\u001b[0m \u001b[43m        \u001b[49m\u001b[43mMCOOLDIR\u001b[49m\u001b[43m    \u001b[49m\u001b[38;5;241;43m=\u001b[39;49m\u001b[43m \u001b[49m\u001b[38;5;124;43m'\u001b[39;49m\u001b[38;5;124;43m../data/mcool_pooled\u001b[39;49m\u001b[38;5;124;43m'\u001b[39;49m\u001b[43m,\u001b[49m\n\u001b[1;32m     18\u001b[0m \u001b[43m        \u001b[49m\u001b[43mCOOLDIR\u001b[49m\u001b[43m     \u001b[49m\u001b[38;5;241;43m=\u001b[39;49m\u001b[43m \u001b[49m\u001b[38;5;124;43m'\u001b[39;49m\u001b[38;5;124;43m../data/cool_norm_pooled\u001b[39;49m\u001b[38;5;124;43m'\u001b[39;49m\u001b[43m,\u001b[49m\n\u001b[1;32m     19\u001b[0m \u001b[43m        \u001b[49m\u001b[43mOUTDIR\u001b[49m\u001b[43m      \u001b[49m\u001b[38;5;241;43m=\u001b[39;49m\u001b[43m \u001b[49m\u001b[38;5;124;43m'\u001b[39;49m\u001b[38;5;124;43m../data/cvd\u001b[39;49m\u001b[38;5;124;43m'\u001b[39;49m\u001b[43m,\u001b[49m\n\u001b[1;32m     20\u001b[0m \u001b[43m        \u001b[49m\u001b[43mNAME\u001b[49m\u001b[43m        \u001b[49m\u001b[38;5;241;43m=\u001b[39;49m\u001b[43m \u001b[49m\u001b[43mname\u001b[49m\u001b[43m,\u001b[49m\n\u001b[1;32m     21\u001b[0m \u001b[43m        \u001b[49m\u001b[43mRES\u001b[49m\u001b[43m         \u001b[49m\u001b[38;5;241;43m=\u001b[39;49m\u001b[43m \u001b[49m\u001b[38;5;241;43m1000\u001b[39;49m\u001b[43m,\u001b[49m\n\u001b[1;32m     22\u001b[0m \u001b[43m        \u001b[49m\u001b[43mDSCOUNT\u001b[49m\u001b[43m     \u001b[49m\u001b[38;5;241;43m=\u001b[39;49m\u001b[43m \u001b[49m\u001b[38;5;241;43m5_000_000\u001b[39;49m\u001b[43m,\u001b[49m\n\u001b[1;32m     23\u001b[0m \u001b[43m        \u001b[49m\u001b[43mmm10_arms\u001b[49m\u001b[43m   \u001b[49m\u001b[38;5;241;43m=\u001b[39;49m\u001b[43m \u001b[49m\u001b[43mmm10_arms\u001b[49m\u001b[43m,\u001b[49m\n\u001b[1;32m     24\u001b[0m \u001b[43m        \u001b[49m\u001b[43mnum_cpus\u001b[49m\u001b[43m    \u001b[49m\u001b[38;5;241;43m=\u001b[39;49m\u001b[43m \u001b[49m\u001b[43mnum_cpus\u001b[49m\u001b[43m,\u001b[49m\n\u001b[1;32m     25\u001b[0m \u001b[43m        \u001b[49m\u001b[43mWORKDIR\u001b[49m\u001b[43m     \u001b[49m\u001b[38;5;241;43m=\u001b[39;49m\u001b[43m \u001b[49m\u001b[43mWORKDIR\u001b[49m\n\u001b[1;32m     26\u001b[0m \u001b[43m    \u001b[49m\u001b[43m)\u001b[49m\n",
      "Cell \u001b[0;32mIn[10], line 45\u001b[0m, in \u001b[0;36mprocess_cvd\u001b[0;34m(MCOOLDIR, COOLDIR, OUTDIR, NAME, RES, DSCOUNT, mm10_arms, num_cpus, WORKDIR)\u001b[0m\n\u001b[1;32m     43\u001b[0m     \u001b[38;5;28mprint\u001b[39m(\u001b[38;5;124mf\u001b[39m\u001b[38;5;124m'\u001b[39m\u001b[38;5;124msampling to \u001b[39m\u001b[38;5;132;01m{\u001b[39;00msubsampled\u001b[38;5;132;01m}\u001b[39;00m\u001b[38;5;124m'\u001b[39m)\n\u001b[1;32m     44\u001b[0m     mc \u001b[38;5;241m=\u001b[39m cooler\u001b[38;5;241m.\u001b[39mCooler(\u001b[38;5;124mf\u001b[39m\u001b[38;5;124m'\u001b[39m\u001b[38;5;132;01m{\u001b[39;00mMCOOLDIR\u001b[38;5;132;01m}\u001b[39;00m\u001b[38;5;124m/\u001b[39m\u001b[38;5;132;01m{\u001b[39;00mNAME\u001b[38;5;132;01m}\u001b[39;00m\u001b[38;5;124m_allRes.mcool::/resolutions/\u001b[39m\u001b[38;5;132;01m{\u001b[39;00mRES\u001b[38;5;132;01m}\u001b[39;00m\u001b[38;5;124m'\u001b[39m)\n\u001b[0;32m---> 45\u001b[0m     \u001b[43mcooltools\u001b[49m\u001b[38;5;241;43m.\u001b[39;49m\u001b[43msample\u001b[49m\u001b[43m(\u001b[49m\u001b[43mmc\u001b[49m\u001b[43m,\u001b[49m\n\u001b[1;32m     46\u001b[0m \u001b[43m                     \u001b[49m\u001b[43mout_clr_path\u001b[49m\u001b[38;5;241;43m=\u001b[39;49m\u001b[43msubsampled\u001b[49m\u001b[43m,\u001b[49m\n\u001b[1;32m     47\u001b[0m \u001b[43m                     \u001b[49m\u001b[43mfrac\u001b[49m\u001b[38;5;241;43m=\u001b[39;49m\u001b[43mfrac\u001b[49m\u001b[43m,\u001b[49m\n\u001b[1;32m     48\u001b[0m \u001b[43m                     \u001b[49m\u001b[43mnproc\u001b[49m\u001b[38;5;241;43m=\u001b[39;49m\u001b[43mnum_cpus\u001b[49m\u001b[43m)\u001b[49m\n\u001b[1;32m     49\u001b[0m \u001b[38;5;28;01melse\u001b[39;00m:\n\u001b[1;32m     50\u001b[0m     \u001b[38;5;28mprint\u001b[39m(\u001b[38;5;124mf\u001b[39m\u001b[38;5;124m'\u001b[39m\u001b[38;5;124mskipping sample (exists): \u001b[39m\u001b[38;5;132;01m{\u001b[39;00msubsampled\u001b[38;5;132;01m}\u001b[39;00m\u001b[38;5;124m'\u001b[39m)\n",
      "File \u001b[0;32m~/micromamba/envs/jupyterlab_cooltools/lib/python3.12/site-packages/cooltools/lib/common.py:541\u001b[0m, in \u001b[0;36mpool_decorator.<locals>.wrapper\u001b[0;34m(*args, **kwargs)\u001b[0m\n\u001b[1;32m    539\u001b[0m     mymap \u001b[38;5;241m=\u001b[39m \u001b[38;5;28mmap\u001b[39m\n\u001b[1;32m    540\u001b[0m \u001b[38;5;28;01mtry\u001b[39;00m:\n\u001b[0;32m--> 541\u001b[0m     result \u001b[38;5;241m=\u001b[39m \u001b[43mfunc\u001b[49m\u001b[43m(\u001b[49m\u001b[38;5;241;43m*\u001b[39;49m\u001b[43margs\u001b[49m\u001b[43m,\u001b[49m\u001b[43m \u001b[49m\u001b[38;5;241;43m*\u001b[39;49m\u001b[38;5;241;43m*\u001b[39;49m\u001b[43mkwargs\u001b[49m\u001b[43m,\u001b[49m\u001b[43m \u001b[49m\u001b[43mmap_functor\u001b[49m\u001b[38;5;241;43m=\u001b[39;49m\u001b[43mmymap\u001b[49m\u001b[43m)\u001b[49m\n\u001b[1;32m    542\u001b[0m \u001b[38;5;28;01mfinally\u001b[39;00m:\n\u001b[1;32m    543\u001b[0m     \u001b[38;5;28;01mif\u001b[39;00m pool \u001b[38;5;129;01mis\u001b[39;00m \u001b[38;5;129;01mnot\u001b[39;00m \u001b[38;5;28;01mNone\u001b[39;00m:\n",
      "File \u001b[0;32m~/micromamba/envs/jupyterlab_cooltools/lib/python3.12/site-packages/cooltools/api/sample.py:119\u001b[0m, in \u001b[0;36msample\u001b[0;34m(clr, out_clr_path, count, cis_count, frac, exact, chunksize, nproc, map_functor)\u001b[0m\n\u001b[1;32m    113\u001b[0m     \u001b[38;5;28;01mraise\u001b[39;00m \u001b[38;5;167;01mValueError\u001b[39;00m(\n\u001b[1;32m    114\u001b[0m         \u001b[38;5;124m\"\u001b[39m\u001b[38;5;124mPlease specify exactly one argument among `count`, `cis_count`\u001b[39m\u001b[38;5;124m\"\u001b[39m\n\u001b[1;32m    115\u001b[0m         \u001b[38;5;124m\"\u001b[39m\u001b[38;5;124m and `frac`\u001b[39m\u001b[38;5;124m\"\u001b[39m\n\u001b[1;32m    116\u001b[0m     )\n\u001b[1;32m    118\u001b[0m \u001b[38;5;28;01mif\u001b[39;00m frac \u001b[38;5;241m>\u001b[39m \u001b[38;5;241m1.0\u001b[39m:\n\u001b[0;32m--> 119\u001b[0m     \u001b[38;5;28;01mraise\u001b[39;00m \u001b[38;5;167;01mValueError\u001b[39;00m(\n\u001b[1;32m    120\u001b[0m         \u001b[38;5;124m\"\u001b[39m\u001b[38;5;124mThe number of contacts in a sample cannot exceed \u001b[39m\u001b[38;5;124m\"\u001b[39m\n\u001b[1;32m    121\u001b[0m         \u001b[38;5;124m\"\u001b[39m\u001b[38;5;124mthat in the original dataset.\u001b[39m\u001b[38;5;124m\"\u001b[39m\n\u001b[1;32m    122\u001b[0m     )\n\u001b[1;32m    124\u001b[0m \u001b[38;5;28;01mif\u001b[39;00m exact:\n\u001b[1;32m    125\u001b[0m     count \u001b[38;5;241m=\u001b[39m np\u001b[38;5;241m.\u001b[39mround(frac \u001b[38;5;241m*\u001b[39m clr\u001b[38;5;241m.\u001b[39minfo[\u001b[38;5;124m\"\u001b[39m\u001b[38;5;124msum\u001b[39m\u001b[38;5;124m\"\u001b[39m])\u001b[38;5;241m.\u001b[39mastype(\u001b[38;5;28mint\u001b[39m)\n",
      "\u001b[0;31mValueError\u001b[0m: The number of contacts in a sample cannot exceed that in the original dataset."
     ]
    }
   ],
   "source": [
    "# names = [\n",
    "#     'G1DMSO_pooled',\n",
    "#     'G1dTAG_pooled',\n",
    "#     'G1A485_pooled',\n",
    "#     'GSE178982_AsyncUT_pooled',\n",
    "#     'GSE178982_AsyncAID_pooled'\n",
    "# ]\n",
    "\n",
    "names = [\n",
    "    'GSE178982_AsyncUT_pooled',\n",
    "    'GSE178982_AsyncAID_pooled'\n",
    "]\n",
    "\n",
    "for name in names:\n",
    "    print(f\"Processing {name}…\")\n",
    "    process_cvd(\n",
    "        MCOOLDIR    = '../data/mcool_pooled',\n",
    "        COOLDIR     = '../data/cool_norm_pooled',\n",
    "        OUTDIR      = '../data/cvd',\n",
    "        NAME        = name,\n",
    "        RES         = 1000,\n",
    "        DSCOUNT     = 5_000_000,\n",
    "        mm10_arms   = mm10_arms,\n",
    "        num_cpus    = num_cpus,\n",
    "        WORKDIR     = WORKDIR\n",
    "    )"
   ]
  },
  {
   "cell_type": "code",
   "execution_count": 15,
   "id": "3b3b15a5",
   "metadata": {},
   "outputs": [
    {
     "data": {
      "text/plain": [
       "{'bin-size': 1000,\n",
       " 'bin-type': 'fixed',\n",
       " 'creation-date': '2025-05-16T19:21:18.889780',\n",
       " 'format': 'HDF5::Cooler',\n",
       " 'format-url': 'https://github.com/4dn-dcic/hic2cool',\n",
       " 'format-version': 3,\n",
       " 'generated-by': 'hic2cool-0.6.0',\n",
       " 'genome-assembly': '/athena/apostoloulab/scratch/collab/Genome/Mus_Musculus/UCSC/mm10/Sequence/WholeGenomeFasta/genome.sizes',\n",
       " 'hicFileScalingFactor': 1.0,\n",
       " 'nbins': 2725549,\n",
       " 'nchroms': 22,\n",
       " 'nnz': 902251031,\n",
       " 'nviIndex': '0000000000000000',\n",
       " 'nviLength': '0000000000000000',\n",
       " 'software': 'Juicer Tools Version 1.22.01',\n",
       " 'storage-mode': 'symmetric-upper'}"
      ]
     },
     "execution_count": 15,
     "metadata": {},
     "output_type": "execute_result"
    }
   ],
   "source": [
    "COOLDIR     = '../data/mcool_pooled'\n",
    "NAME        = 'G1DMSO_pooled_allRes'\n",
    "RES         = 1000\n",
    "pre_norm = cooler.Cooler(f'{COOLDIR}/{NAME}.mcool::/resolutions/1000')\n",
    "pre_norm.info"
   ]
  },
  {
   "cell_type": "code",
   "execution_count": 16,
   "id": "88fadd06",
   "metadata": {},
   "outputs": [
    {
     "data": {
      "application/vnd.microsoft.datawrangler.viewer.v0+json": {
       "columns": [
        {
         "name": "index",
         "rawType": "int64",
         "type": "integer"
        },
        {
         "name": "chrom",
         "rawType": "category",
         "type": "unknown"
        },
        {
         "name": "start",
         "rawType": "int32",
         "type": "integer"
        },
        {
         "name": "end",
         "rawType": "int32",
         "type": "integer"
        },
        {
         "name": "KR",
         "rawType": "float64",
         "type": "float"
        },
        {
         "name": "SCALE",
         "rawType": "float64",
         "type": "float"
        },
        {
         "name": "VC",
         "rawType": "float64",
         "type": "float"
        },
        {
         "name": "VC_SQRT",
         "rawType": "float64",
         "type": "float"
        }
       ],
       "ref": "bc55f9a3-e80e-4b87-8841-2f7af19bb04b",
       "rows": [
        [
         "0",
         "chr1",
         "0",
         "1000",
         null,
         null,
         "0.0",
         "0.0"
        ],
        [
         "1",
         "chr1",
         "1000",
         "2000",
         null,
         null,
         "0.0",
         "0.0"
        ],
        [
         "2",
         "chr1",
         "2000",
         "3000",
         null,
         null,
         "0.0",
         "0.0"
        ],
        [
         "3",
         "chr1",
         "3000",
         "4000",
         null,
         null,
         "0.0",
         "0.0"
        ],
        [
         "4",
         "chr1",
         "4000",
         "5000",
         null,
         null,
         "0.0",
         "0.0"
        ],
        [
         "5",
         "chr1",
         "5000",
         "6000",
         null,
         null,
         "0.0",
         "0.0"
        ],
        [
         "6",
         "chr1",
         "6000",
         "7000",
         null,
         null,
         "0.0",
         "0.0"
        ],
        [
         "7",
         "chr1",
         "7000",
         "8000",
         null,
         null,
         "0.0",
         "0.0"
        ],
        [
         "8",
         "chr1",
         "8000",
         "9000",
         null,
         null,
         "0.0",
         "0.0"
        ],
        [
         "9",
         "chr1",
         "9000",
         "10000",
         null,
         null,
         "0.0",
         "0.0"
        ],
        [
         "10",
         "chr1",
         "10000",
         "11000",
         null,
         null,
         "0.0",
         "0.0"
        ],
        [
         "11",
         "chr1",
         "11000",
         "12000",
         null,
         null,
         "0.0",
         "0.0"
        ],
        [
         "12",
         "chr1",
         "12000",
         "13000",
         null,
         null,
         "0.0",
         "0.0"
        ],
        [
         "13",
         "chr1",
         "13000",
         "14000",
         null,
         null,
         "0.0",
         "0.0"
        ],
        [
         "14",
         "chr1",
         "14000",
         "15000",
         null,
         null,
         "0.0",
         "0.0"
        ],
        [
         "15",
         "chr1",
         "15000",
         "16000",
         null,
         null,
         "0.0",
         "0.0"
        ],
        [
         "16",
         "chr1",
         "16000",
         "17000",
         null,
         null,
         "0.0",
         "0.0"
        ],
        [
         "17",
         "chr1",
         "17000",
         "18000",
         null,
         null,
         "0.0",
         "0.0"
        ],
        [
         "18",
         "chr1",
         "18000",
         "19000",
         null,
         null,
         "0.0",
         "0.0"
        ],
        [
         "19",
         "chr1",
         "19000",
         "20000",
         null,
         null,
         "0.0",
         "0.0"
        ],
        [
         "20",
         "chr1",
         "20000",
         "21000",
         null,
         null,
         "0.0",
         "0.0"
        ],
        [
         "21",
         "chr1",
         "21000",
         "22000",
         null,
         null,
         "0.0",
         "0.0"
        ],
        [
         "22",
         "chr1",
         "22000",
         "23000",
         null,
         null,
         "0.0",
         "0.0"
        ],
        [
         "23",
         "chr1",
         "23000",
         "24000",
         null,
         null,
         "0.0",
         "0.0"
        ],
        [
         "24",
         "chr1",
         "24000",
         "25000",
         null,
         null,
         "0.0",
         "0.0"
        ],
        [
         "25",
         "chr1",
         "25000",
         "26000",
         null,
         null,
         "0.0",
         "0.0"
        ],
        [
         "26",
         "chr1",
         "26000",
         "27000",
         null,
         null,
         "0.0",
         "0.0"
        ],
        [
         "27",
         "chr1",
         "27000",
         "28000",
         null,
         null,
         "0.0",
         "0.0"
        ],
        [
         "28",
         "chr1",
         "28000",
         "29000",
         null,
         null,
         "0.0",
         "0.0"
        ],
        [
         "29",
         "chr1",
         "29000",
         "30000",
         null,
         null,
         "0.0",
         "0.0"
        ],
        [
         "30",
         "chr1",
         "30000",
         "31000",
         null,
         null,
         "0.0",
         "0.0"
        ],
        [
         "31",
         "chr1",
         "31000",
         "32000",
         null,
         null,
         "0.0",
         "0.0"
        ],
        [
         "32",
         "chr1",
         "32000",
         "33000",
         null,
         null,
         "0.0",
         "0.0"
        ],
        [
         "33",
         "chr1",
         "33000",
         "34000",
         null,
         null,
         "0.0",
         "0.0"
        ],
        [
         "34",
         "chr1",
         "34000",
         "35000",
         null,
         null,
         "0.0",
         "0.0"
        ],
        [
         "35",
         "chr1",
         "35000",
         "36000",
         null,
         null,
         "0.0",
         "0.0"
        ],
        [
         "36",
         "chr1",
         "36000",
         "37000",
         null,
         null,
         "0.0",
         "0.0"
        ],
        [
         "37",
         "chr1",
         "37000",
         "38000",
         null,
         null,
         "0.0",
         "0.0"
        ],
        [
         "38",
         "chr1",
         "38000",
         "39000",
         null,
         null,
         "0.0",
         "0.0"
        ],
        [
         "39",
         "chr1",
         "39000",
         "40000",
         null,
         null,
         "0.0",
         "0.0"
        ],
        [
         "40",
         "chr1",
         "40000",
         "41000",
         null,
         null,
         "0.0",
         "0.0"
        ],
        [
         "41",
         "chr1",
         "41000",
         "42000",
         null,
         null,
         "0.0",
         "0.0"
        ],
        [
         "42",
         "chr1",
         "42000",
         "43000",
         null,
         null,
         "0.0",
         "0.0"
        ],
        [
         "43",
         "chr1",
         "43000",
         "44000",
         null,
         null,
         "0.0",
         "0.0"
        ],
        [
         "44",
         "chr1",
         "44000",
         "45000",
         null,
         null,
         "0.0",
         "0.0"
        ],
        [
         "45",
         "chr1",
         "45000",
         "46000",
         null,
         null,
         "0.0",
         "0.0"
        ],
        [
         "46",
         "chr1",
         "46000",
         "47000",
         null,
         null,
         "0.0",
         "0.0"
        ],
        [
         "47",
         "chr1",
         "47000",
         "48000",
         null,
         null,
         "0.0",
         "0.0"
        ],
        [
         "48",
         "chr1",
         "48000",
         "49000",
         null,
         null,
         "0.0",
         "0.0"
        ],
        [
         "49",
         "chr1",
         "49000",
         "50000",
         null,
         null,
         "0.0",
         "0.0"
        ]
       ],
       "shape": {
        "columns": 7,
        "rows": 2725549
       }
      },
      "text/html": [
       "<div>\n",
       "<style scoped>\n",
       "    .dataframe tbody tr th:only-of-type {\n",
       "        vertical-align: middle;\n",
       "    }\n",
       "\n",
       "    .dataframe tbody tr th {\n",
       "        vertical-align: top;\n",
       "    }\n",
       "\n",
       "    .dataframe thead th {\n",
       "        text-align: right;\n",
       "    }\n",
       "</style>\n",
       "<table border=\"1\" class=\"dataframe\">\n",
       "  <thead>\n",
       "    <tr style=\"text-align: right;\">\n",
       "      <th></th>\n",
       "      <th>chrom</th>\n",
       "      <th>start</th>\n",
       "      <th>end</th>\n",
       "      <th>KR</th>\n",
       "      <th>SCALE</th>\n",
       "      <th>VC</th>\n",
       "      <th>VC_SQRT</th>\n",
       "    </tr>\n",
       "  </thead>\n",
       "  <tbody>\n",
       "    <tr>\n",
       "      <th>0</th>\n",
       "      <td>chr1</td>\n",
       "      <td>0</td>\n",
       "      <td>1000</td>\n",
       "      <td>NaN</td>\n",
       "      <td>NaN</td>\n",
       "      <td>0.0</td>\n",
       "      <td>0.0</td>\n",
       "    </tr>\n",
       "    <tr>\n",
       "      <th>1</th>\n",
       "      <td>chr1</td>\n",
       "      <td>1000</td>\n",
       "      <td>2000</td>\n",
       "      <td>NaN</td>\n",
       "      <td>NaN</td>\n",
       "      <td>0.0</td>\n",
       "      <td>0.0</td>\n",
       "    </tr>\n",
       "    <tr>\n",
       "      <th>2</th>\n",
       "      <td>chr1</td>\n",
       "      <td>2000</td>\n",
       "      <td>3000</td>\n",
       "      <td>NaN</td>\n",
       "      <td>NaN</td>\n",
       "      <td>0.0</td>\n",
       "      <td>0.0</td>\n",
       "    </tr>\n",
       "    <tr>\n",
       "      <th>3</th>\n",
       "      <td>chr1</td>\n",
       "      <td>3000</td>\n",
       "      <td>4000</td>\n",
       "      <td>NaN</td>\n",
       "      <td>NaN</td>\n",
       "      <td>0.0</td>\n",
       "      <td>0.0</td>\n",
       "    </tr>\n",
       "    <tr>\n",
       "      <th>4</th>\n",
       "      <td>chr1</td>\n",
       "      <td>4000</td>\n",
       "      <td>5000</td>\n",
       "      <td>NaN</td>\n",
       "      <td>NaN</td>\n",
       "      <td>0.0</td>\n",
       "      <td>0.0</td>\n",
       "    </tr>\n",
       "    <tr>\n",
       "      <th>...</th>\n",
       "      <td>...</td>\n",
       "      <td>...</td>\n",
       "      <td>...</td>\n",
       "      <td>...</td>\n",
       "      <td>...</td>\n",
       "      <td>...</td>\n",
       "      <td>...</td>\n",
       "    </tr>\n",
       "    <tr>\n",
       "      <th>2725544</th>\n",
       "      <td>chrY</td>\n",
       "      <td>91740000</td>\n",
       "      <td>91741000</td>\n",
       "      <td>NaN</td>\n",
       "      <td>NaN</td>\n",
       "      <td>0.0</td>\n",
       "      <td>0.0</td>\n",
       "    </tr>\n",
       "    <tr>\n",
       "      <th>2725545</th>\n",
       "      <td>chrY</td>\n",
       "      <td>91741000</td>\n",
       "      <td>91742000</td>\n",
       "      <td>NaN</td>\n",
       "      <td>NaN</td>\n",
       "      <td>0.0</td>\n",
       "      <td>0.0</td>\n",
       "    </tr>\n",
       "    <tr>\n",
       "      <th>2725546</th>\n",
       "      <td>chrY</td>\n",
       "      <td>91742000</td>\n",
       "      <td>91743000</td>\n",
       "      <td>NaN</td>\n",
       "      <td>NaN</td>\n",
       "      <td>0.0</td>\n",
       "      <td>0.0</td>\n",
       "    </tr>\n",
       "    <tr>\n",
       "      <th>2725547</th>\n",
       "      <td>chrY</td>\n",
       "      <td>91743000</td>\n",
       "      <td>91744000</td>\n",
       "      <td>NaN</td>\n",
       "      <td>NaN</td>\n",
       "      <td>0.0</td>\n",
       "      <td>0.0</td>\n",
       "    </tr>\n",
       "    <tr>\n",
       "      <th>2725548</th>\n",
       "      <td>chrY</td>\n",
       "      <td>91744000</td>\n",
       "      <td>91744698</td>\n",
       "      <td>NaN</td>\n",
       "      <td>NaN</td>\n",
       "      <td>0.0</td>\n",
       "      <td>0.0</td>\n",
       "    </tr>\n",
       "  </tbody>\n",
       "</table>\n",
       "<p>2725549 rows × 7 columns</p>\n",
       "</div>"
      ],
      "text/plain": [
       "        chrom     start       end  KR  SCALE   VC  VC_SQRT\n",
       "0        chr1         0      1000 NaN    NaN  0.0      0.0\n",
       "1        chr1      1000      2000 NaN    NaN  0.0      0.0\n",
       "2        chr1      2000      3000 NaN    NaN  0.0      0.0\n",
       "3        chr1      3000      4000 NaN    NaN  0.0      0.0\n",
       "4        chr1      4000      5000 NaN    NaN  0.0      0.0\n",
       "...       ...       ...       ...  ..    ...  ...      ...\n",
       "2725544  chrY  91740000  91741000 NaN    NaN  0.0      0.0\n",
       "2725545  chrY  91741000  91742000 NaN    NaN  0.0      0.0\n",
       "2725546  chrY  91742000  91743000 NaN    NaN  0.0      0.0\n",
       "2725547  chrY  91743000  91744000 NaN    NaN  0.0      0.0\n",
       "2725548  chrY  91744000  91744698 NaN    NaN  0.0      0.0\n",
       "\n",
       "[2725549 rows x 7 columns]"
      ]
     },
     "execution_count": 16,
     "metadata": {},
     "output_type": "execute_result"
    }
   ],
   "source": [
    "pre_norm.bins()[:]"
   ]
  },
  {
   "cell_type": "code",
   "execution_count": 13,
   "id": "3759fd48",
   "metadata": {},
   "outputs": [
    {
     "data": {
      "text/plain": [
       "{'bin-size': 1000,\n",
       " 'bin-type': 'fixed',\n",
       " 'creation-date': '2025-05-17T10:54:28.102751',\n",
       " 'format': 'HDF5::Cooler',\n",
       " 'format-url': 'https://github.com/mirnylab/cooler',\n",
       " 'format-version': 3,\n",
       " 'generated-by': 'HiCMatrix-17.2',\n",
       " 'generated-by-cooler-lib': 'cooler-0.10.2',\n",
       " 'genome-assembly': '/athena/apostoloulab/scratch/collab/Genome/Mus_Musculus/UCSC/mm10/Sequence/WholeGenomeFasta/genome.sizes',\n",
       " 'metadata': {'format': 'HDF5::Cooler',\n",
       "  'format-url': 'https://github.com/mirnylab/cooler',\n",
       "  'generated-by': 'HiCMatrix-17.2',\n",
       "  'generated-by-cooler-lib': 'cooler-0.10.2',\n",
       "  'tool-url': 'https://github.com/deeptools/HiCMatrix',\n",
       "  'genome-assembly': '/athena/apostoloulab/scratch/collab/Genome/Mus_Musculus/UCSC/mm10/Sequence/WholeGenomeFasta/genome.sizes'},\n",
       " 'nbins': 2725549,\n",
       " 'nchroms': 22,\n",
       " 'nnz': 901956778,\n",
       " 'storage-mode': 'symmetric-upper',\n",
       " 'sum': 1387522117.0,\n",
       " 'tool-url': 'https://github.com/deeptools/HiCMatrix'}"
      ]
     },
     "execution_count": 13,
     "metadata": {},
     "output_type": "execute_result"
    }
   ],
   "source": [
    "COOLDIR     = '../data/cool_norm_pooled'\n",
    "NAME        = 'G1DMSO_pooled'\n",
    "RES         = 1000\n",
    "pre_norm = cooler.Cooler(f'{COOLDIR}/{NAME}_{RES}bp_KR.cool')\n",
    "pre_norm.info"
   ]
  },
  {
   "cell_type": "code",
   "execution_count": 14,
   "id": "3c33aeaa",
   "metadata": {},
   "outputs": [
    {
     "data": {
      "application/vnd.microsoft.datawrangler.viewer.v0+json": {
       "columns": [
        {
         "name": "index",
         "rawType": "int64",
         "type": "integer"
        },
        {
         "name": "chrom",
         "rawType": "category",
         "type": "unknown"
        },
        {
         "name": "start",
         "rawType": "int32",
         "type": "integer"
        },
        {
         "name": "end",
         "rawType": "int32",
         "type": "integer"
        },
        {
         "name": "weight",
         "rawType": "float64",
         "type": "float"
        }
       ],
       "ref": "6607270f-f9e0-4c58-8995-ef204e9ee38b",
       "rows": [
        [
         "0",
         "chr1",
         "0",
         "1000",
         "0.0"
        ],
        [
         "1",
         "chr1",
         "1000",
         "2000",
         "0.0"
        ],
        [
         "2",
         "chr1",
         "2000",
         "3000",
         "0.0"
        ],
        [
         "3",
         "chr1",
         "3000",
         "4000",
         "0.0"
        ],
        [
         "4",
         "chr1",
         "4000",
         "5000",
         "0.0"
        ],
        [
         "5",
         "chr1",
         "5000",
         "6000",
         "0.0"
        ],
        [
         "6",
         "chr1",
         "6000",
         "7000",
         "0.0"
        ],
        [
         "7",
         "chr1",
         "7000",
         "8000",
         "0.0"
        ],
        [
         "8",
         "chr1",
         "8000",
         "9000",
         "0.0"
        ],
        [
         "9",
         "chr1",
         "9000",
         "10000",
         "0.0"
        ],
        [
         "10",
         "chr1",
         "10000",
         "11000",
         "0.0"
        ],
        [
         "11",
         "chr1",
         "11000",
         "12000",
         "0.0"
        ],
        [
         "12",
         "chr1",
         "12000",
         "13000",
         "0.0"
        ],
        [
         "13",
         "chr1",
         "13000",
         "14000",
         "0.0"
        ],
        [
         "14",
         "chr1",
         "14000",
         "15000",
         "0.0"
        ],
        [
         "15",
         "chr1",
         "15000",
         "16000",
         "0.0"
        ],
        [
         "16",
         "chr1",
         "16000",
         "17000",
         "0.0"
        ],
        [
         "17",
         "chr1",
         "17000",
         "18000",
         "0.0"
        ],
        [
         "18",
         "chr1",
         "18000",
         "19000",
         "0.0"
        ],
        [
         "19",
         "chr1",
         "19000",
         "20000",
         "0.0"
        ],
        [
         "20",
         "chr1",
         "20000",
         "21000",
         "0.0"
        ],
        [
         "21",
         "chr1",
         "21000",
         "22000",
         "0.0"
        ],
        [
         "22",
         "chr1",
         "22000",
         "23000",
         "0.0"
        ],
        [
         "23",
         "chr1",
         "23000",
         "24000",
         "0.0"
        ],
        [
         "24",
         "chr1",
         "24000",
         "25000",
         "0.0"
        ],
        [
         "25",
         "chr1",
         "25000",
         "26000",
         "0.0"
        ],
        [
         "26",
         "chr1",
         "26000",
         "27000",
         "0.0"
        ],
        [
         "27",
         "chr1",
         "27000",
         "28000",
         "0.0"
        ],
        [
         "28",
         "chr1",
         "28000",
         "29000",
         "0.0"
        ],
        [
         "29",
         "chr1",
         "29000",
         "30000",
         "0.0"
        ],
        [
         "30",
         "chr1",
         "30000",
         "31000",
         "0.0"
        ],
        [
         "31",
         "chr1",
         "31000",
         "32000",
         "0.0"
        ],
        [
         "32",
         "chr1",
         "32000",
         "33000",
         "0.0"
        ],
        [
         "33",
         "chr1",
         "33000",
         "34000",
         "0.0"
        ],
        [
         "34",
         "chr1",
         "34000",
         "35000",
         "0.0"
        ],
        [
         "35",
         "chr1",
         "35000",
         "36000",
         "0.0"
        ],
        [
         "36",
         "chr1",
         "36000",
         "37000",
         "0.0"
        ],
        [
         "37",
         "chr1",
         "37000",
         "38000",
         "0.0"
        ],
        [
         "38",
         "chr1",
         "38000",
         "39000",
         "0.0"
        ],
        [
         "39",
         "chr1",
         "39000",
         "40000",
         "0.0"
        ],
        [
         "40",
         "chr1",
         "40000",
         "41000",
         "0.0"
        ],
        [
         "41",
         "chr1",
         "41000",
         "42000",
         "0.0"
        ],
        [
         "42",
         "chr1",
         "42000",
         "43000",
         "0.0"
        ],
        [
         "43",
         "chr1",
         "43000",
         "44000",
         "0.0"
        ],
        [
         "44",
         "chr1",
         "44000",
         "45000",
         "0.0"
        ],
        [
         "45",
         "chr1",
         "45000",
         "46000",
         "0.0"
        ],
        [
         "46",
         "chr1",
         "46000",
         "47000",
         "0.0"
        ],
        [
         "47",
         "chr1",
         "47000",
         "48000",
         "0.0"
        ],
        [
         "48",
         "chr1",
         "48000",
         "49000",
         "0.0"
        ],
        [
         "49",
         "chr1",
         "49000",
         "50000",
         "0.0"
        ]
       ],
       "shape": {
        "columns": 4,
        "rows": 2725549
       }
      },
      "text/html": [
       "<div>\n",
       "<style scoped>\n",
       "    .dataframe tbody tr th:only-of-type {\n",
       "        vertical-align: middle;\n",
       "    }\n",
       "\n",
       "    .dataframe tbody tr th {\n",
       "        vertical-align: top;\n",
       "    }\n",
       "\n",
       "    .dataframe thead th {\n",
       "        text-align: right;\n",
       "    }\n",
       "</style>\n",
       "<table border=\"1\" class=\"dataframe\">\n",
       "  <thead>\n",
       "    <tr style=\"text-align: right;\">\n",
       "      <th></th>\n",
       "      <th>chrom</th>\n",
       "      <th>start</th>\n",
       "      <th>end</th>\n",
       "      <th>weight</th>\n",
       "    </tr>\n",
       "  </thead>\n",
       "  <tbody>\n",
       "    <tr>\n",
       "      <th>0</th>\n",
       "      <td>chr1</td>\n",
       "      <td>0</td>\n",
       "      <td>1000</td>\n",
       "      <td>0.0</td>\n",
       "    </tr>\n",
       "    <tr>\n",
       "      <th>1</th>\n",
       "      <td>chr1</td>\n",
       "      <td>1000</td>\n",
       "      <td>2000</td>\n",
       "      <td>0.0</td>\n",
       "    </tr>\n",
       "    <tr>\n",
       "      <th>2</th>\n",
       "      <td>chr1</td>\n",
       "      <td>2000</td>\n",
       "      <td>3000</td>\n",
       "      <td>0.0</td>\n",
       "    </tr>\n",
       "    <tr>\n",
       "      <th>3</th>\n",
       "      <td>chr1</td>\n",
       "      <td>3000</td>\n",
       "      <td>4000</td>\n",
       "      <td>0.0</td>\n",
       "    </tr>\n",
       "    <tr>\n",
       "      <th>4</th>\n",
       "      <td>chr1</td>\n",
       "      <td>4000</td>\n",
       "      <td>5000</td>\n",
       "      <td>0.0</td>\n",
       "    </tr>\n",
       "    <tr>\n",
       "      <th>...</th>\n",
       "      <td>...</td>\n",
       "      <td>...</td>\n",
       "      <td>...</td>\n",
       "      <td>...</td>\n",
       "    </tr>\n",
       "    <tr>\n",
       "      <th>2725544</th>\n",
       "      <td>chrY</td>\n",
       "      <td>91740000</td>\n",
       "      <td>91741000</td>\n",
       "      <td>0.0</td>\n",
       "    </tr>\n",
       "    <tr>\n",
       "      <th>2725545</th>\n",
       "      <td>chrY</td>\n",
       "      <td>91741000</td>\n",
       "      <td>91742000</td>\n",
       "      <td>0.0</td>\n",
       "    </tr>\n",
       "    <tr>\n",
       "      <th>2725546</th>\n",
       "      <td>chrY</td>\n",
       "      <td>91742000</td>\n",
       "      <td>91743000</td>\n",
       "      <td>0.0</td>\n",
       "    </tr>\n",
       "    <tr>\n",
       "      <th>2725547</th>\n",
       "      <td>chrY</td>\n",
       "      <td>91743000</td>\n",
       "      <td>91744000</td>\n",
       "      <td>0.0</td>\n",
       "    </tr>\n",
       "    <tr>\n",
       "      <th>2725548</th>\n",
       "      <td>chrY</td>\n",
       "      <td>91744000</td>\n",
       "      <td>91744698</td>\n",
       "      <td>0.0</td>\n",
       "    </tr>\n",
       "  </tbody>\n",
       "</table>\n",
       "<p>2725549 rows × 4 columns</p>\n",
       "</div>"
      ],
      "text/plain": [
       "        chrom     start       end  weight\n",
       "0        chr1         0      1000     0.0\n",
       "1        chr1      1000      2000     0.0\n",
       "2        chr1      2000      3000     0.0\n",
       "3        chr1      3000      4000     0.0\n",
       "4        chr1      4000      5000     0.0\n",
       "...       ...       ...       ...     ...\n",
       "2725544  chrY  91740000  91741000     0.0\n",
       "2725545  chrY  91741000  91742000     0.0\n",
       "2725546  chrY  91742000  91743000     0.0\n",
       "2725547  chrY  91743000  91744000     0.0\n",
       "2725548  chrY  91744000  91744698     0.0\n",
       "\n",
       "[2725549 rows x 4 columns]"
      ]
     },
     "execution_count": 14,
     "metadata": {},
     "output_type": "execute_result"
    }
   ],
   "source": [
    "pre_norm.bins()[:]"
   ]
  },
  {
   "cell_type": "code",
   "execution_count": 23,
   "id": "62c7f5f8",
   "metadata": {},
   "outputs": [
    {
     "data": {
      "text/plain": [
       "{'bin-size': 1000,\n",
       " 'bin-type': 'fixed',\n",
       " 'creation-date': '2020-08-15T10:21:57.149892',\n",
       " 'format': 'HDF5::Cooler',\n",
       " 'format-url': 'https://github.com/mirnylab/cooler',\n",
       " 'format-version': 3,\n",
       " 'generated-by': 'cooler-0.8.6.post0',\n",
       " 'genome-assembly': 'unknown',\n",
       " 'metadata': {},\n",
       " 'nbins': 2725549,\n",
       " 'nchroms': 22,\n",
       " 'nnz': 830296202,\n",
       " 'storage-mode': 'symmetric-upper',\n",
       " 'sum': 2088999279}"
      ]
     },
     "execution_count": 23,
     "metadata": {},
     "output_type": "execute_result"
    }
   ],
   "source": [
    "COOLDIR     = '../data/mcool_pooled'\n",
    "NAME        = 'GSE178982_AsyncAID_pooled_allRes'\n",
    "RES         = 1000\n",
    "pre_norm = cooler.Cooler(f'{COOLDIR}/{NAME}.mcool::/resolutions/1000')\n",
    "pre_norm.info"
   ]
  },
  {
   "cell_type": "markdown",
   "id": "71f817db",
   "metadata": {},
   "source": []
  },
  {
   "cell_type": "code",
   "execution_count": 22,
   "id": "beffcd5c",
   "metadata": {},
   "outputs": [
    {
     "data": {
      "application/vnd.microsoft.datawrangler.viewer.v0+json": {
       "columns": [
        {
         "name": "index",
         "rawType": "int64",
         "type": "integer"
        },
        {
         "name": "chrom",
         "rawType": "category",
         "type": "unknown"
        },
        {
         "name": "start",
         "rawType": "int32",
         "type": "integer"
        },
        {
         "name": "end",
         "rawType": "int32",
         "type": "integer"
        },
        {
         "name": "weight",
         "rawType": "float64",
         "type": "float"
        }
       ],
       "ref": "4ae4c9ed-6912-4c61-9e92-e9a1519ac64b",
       "rows": [
        [
         "0",
         "chr1",
         "0",
         "1000",
         null
        ],
        [
         "1",
         "chr1",
         "1000",
         "2000",
         null
        ],
        [
         "2",
         "chr1",
         "2000",
         "3000",
         null
        ],
        [
         "3",
         "chr1",
         "3000",
         "4000",
         null
        ],
        [
         "4",
         "chr1",
         "4000",
         "5000",
         null
        ],
        [
         "5",
         "chr1",
         "5000",
         "6000",
         null
        ],
        [
         "6",
         "chr1",
         "6000",
         "7000",
         null
        ],
        [
         "7",
         "chr1",
         "7000",
         "8000",
         null
        ],
        [
         "8",
         "chr1",
         "8000",
         "9000",
         null
        ],
        [
         "9",
         "chr1",
         "9000",
         "10000",
         null
        ],
        [
         "10",
         "chr1",
         "10000",
         "11000",
         null
        ],
        [
         "11",
         "chr1",
         "11000",
         "12000",
         null
        ],
        [
         "12",
         "chr1",
         "12000",
         "13000",
         null
        ],
        [
         "13",
         "chr1",
         "13000",
         "14000",
         null
        ],
        [
         "14",
         "chr1",
         "14000",
         "15000",
         null
        ],
        [
         "15",
         "chr1",
         "15000",
         "16000",
         null
        ],
        [
         "16",
         "chr1",
         "16000",
         "17000",
         null
        ],
        [
         "17",
         "chr1",
         "17000",
         "18000",
         null
        ],
        [
         "18",
         "chr1",
         "18000",
         "19000",
         null
        ],
        [
         "19",
         "chr1",
         "19000",
         "20000",
         null
        ],
        [
         "20",
         "chr1",
         "20000",
         "21000",
         null
        ],
        [
         "21",
         "chr1",
         "21000",
         "22000",
         null
        ],
        [
         "22",
         "chr1",
         "22000",
         "23000",
         null
        ],
        [
         "23",
         "chr1",
         "23000",
         "24000",
         null
        ],
        [
         "24",
         "chr1",
         "24000",
         "25000",
         null
        ],
        [
         "25",
         "chr1",
         "25000",
         "26000",
         null
        ],
        [
         "26",
         "chr1",
         "26000",
         "27000",
         null
        ],
        [
         "27",
         "chr1",
         "27000",
         "28000",
         null
        ],
        [
         "28",
         "chr1",
         "28000",
         "29000",
         null
        ],
        [
         "29",
         "chr1",
         "29000",
         "30000",
         null
        ],
        [
         "30",
         "chr1",
         "30000",
         "31000",
         null
        ],
        [
         "31",
         "chr1",
         "31000",
         "32000",
         null
        ],
        [
         "32",
         "chr1",
         "32000",
         "33000",
         null
        ],
        [
         "33",
         "chr1",
         "33000",
         "34000",
         null
        ],
        [
         "34",
         "chr1",
         "34000",
         "35000",
         null
        ],
        [
         "35",
         "chr1",
         "35000",
         "36000",
         null
        ],
        [
         "36",
         "chr1",
         "36000",
         "37000",
         null
        ],
        [
         "37",
         "chr1",
         "37000",
         "38000",
         null
        ],
        [
         "38",
         "chr1",
         "38000",
         "39000",
         null
        ],
        [
         "39",
         "chr1",
         "39000",
         "40000",
         null
        ],
        [
         "40",
         "chr1",
         "40000",
         "41000",
         null
        ],
        [
         "41",
         "chr1",
         "41000",
         "42000",
         null
        ],
        [
         "42",
         "chr1",
         "42000",
         "43000",
         null
        ],
        [
         "43",
         "chr1",
         "43000",
         "44000",
         null
        ],
        [
         "44",
         "chr1",
         "44000",
         "45000",
         null
        ],
        [
         "45",
         "chr1",
         "45000",
         "46000",
         null
        ],
        [
         "46",
         "chr1",
         "46000",
         "47000",
         null
        ],
        [
         "47",
         "chr1",
         "47000",
         "48000",
         null
        ],
        [
         "48",
         "chr1",
         "48000",
         "49000",
         null
        ],
        [
         "49",
         "chr1",
         "49000",
         "50000",
         null
        ]
       ],
       "shape": {
        "columns": 4,
        "rows": 2725549
       }
      },
      "text/html": [
       "<div>\n",
       "<style scoped>\n",
       "    .dataframe tbody tr th:only-of-type {\n",
       "        vertical-align: middle;\n",
       "    }\n",
       "\n",
       "    .dataframe tbody tr th {\n",
       "        vertical-align: top;\n",
       "    }\n",
       "\n",
       "    .dataframe thead th {\n",
       "        text-align: right;\n",
       "    }\n",
       "</style>\n",
       "<table border=\"1\" class=\"dataframe\">\n",
       "  <thead>\n",
       "    <tr style=\"text-align: right;\">\n",
       "      <th></th>\n",
       "      <th>chrom</th>\n",
       "      <th>start</th>\n",
       "      <th>end</th>\n",
       "      <th>weight</th>\n",
       "    </tr>\n",
       "  </thead>\n",
       "  <tbody>\n",
       "    <tr>\n",
       "      <th>0</th>\n",
       "      <td>chr1</td>\n",
       "      <td>0</td>\n",
       "      <td>1000</td>\n",
       "      <td>NaN</td>\n",
       "    </tr>\n",
       "    <tr>\n",
       "      <th>1</th>\n",
       "      <td>chr1</td>\n",
       "      <td>1000</td>\n",
       "      <td>2000</td>\n",
       "      <td>NaN</td>\n",
       "    </tr>\n",
       "    <tr>\n",
       "      <th>2</th>\n",
       "      <td>chr1</td>\n",
       "      <td>2000</td>\n",
       "      <td>3000</td>\n",
       "      <td>NaN</td>\n",
       "    </tr>\n",
       "    <tr>\n",
       "      <th>3</th>\n",
       "      <td>chr1</td>\n",
       "      <td>3000</td>\n",
       "      <td>4000</td>\n",
       "      <td>NaN</td>\n",
       "    </tr>\n",
       "    <tr>\n",
       "      <th>4</th>\n",
       "      <td>chr1</td>\n",
       "      <td>4000</td>\n",
       "      <td>5000</td>\n",
       "      <td>NaN</td>\n",
       "    </tr>\n",
       "    <tr>\n",
       "      <th>...</th>\n",
       "      <td>...</td>\n",
       "      <td>...</td>\n",
       "      <td>...</td>\n",
       "      <td>...</td>\n",
       "    </tr>\n",
       "    <tr>\n",
       "      <th>2725544</th>\n",
       "      <td>chrY</td>\n",
       "      <td>91740000</td>\n",
       "      <td>91741000</td>\n",
       "      <td>NaN</td>\n",
       "    </tr>\n",
       "    <tr>\n",
       "      <th>2725545</th>\n",
       "      <td>chrY</td>\n",
       "      <td>91741000</td>\n",
       "      <td>91742000</td>\n",
       "      <td>NaN</td>\n",
       "    </tr>\n",
       "    <tr>\n",
       "      <th>2725546</th>\n",
       "      <td>chrY</td>\n",
       "      <td>91742000</td>\n",
       "      <td>91743000</td>\n",
       "      <td>NaN</td>\n",
       "    </tr>\n",
       "    <tr>\n",
       "      <th>2725547</th>\n",
       "      <td>chrY</td>\n",
       "      <td>91743000</td>\n",
       "      <td>91744000</td>\n",
       "      <td>NaN</td>\n",
       "    </tr>\n",
       "    <tr>\n",
       "      <th>2725548</th>\n",
       "      <td>chrY</td>\n",
       "      <td>91744000</td>\n",
       "      <td>91744698</td>\n",
       "      <td>NaN</td>\n",
       "    </tr>\n",
       "  </tbody>\n",
       "</table>\n",
       "<p>2725549 rows × 4 columns</p>\n",
       "</div>"
      ],
      "text/plain": [
       "        chrom     start       end  weight\n",
       "0        chr1         0      1000     NaN\n",
       "1        chr1      1000      2000     NaN\n",
       "2        chr1      2000      3000     NaN\n",
       "3        chr1      3000      4000     NaN\n",
       "4        chr1      4000      5000     NaN\n",
       "...       ...       ...       ...     ...\n",
       "2725544  chrY  91740000  91741000     NaN\n",
       "2725545  chrY  91741000  91742000     NaN\n",
       "2725546  chrY  91742000  91743000     NaN\n",
       "2725547  chrY  91743000  91744000     NaN\n",
       "2725548  chrY  91744000  91744698     NaN\n",
       "\n",
       "[2725549 rows x 4 columns]"
      ]
     },
     "execution_count": 22,
     "metadata": {},
     "output_type": "execute_result"
    }
   ],
   "source": [
    "pre_norm.bins()[:]"
   ]
  },
  {
   "cell_type": "code",
   "execution_count": 19,
   "id": "ac8f5faf",
   "metadata": {},
   "outputs": [
    {
     "data": {
      "text/plain": [
       "{'bin-size': 1000,\n",
       " 'bin-type': 'fixed',\n",
       " 'creation-date': '2024-08-22T10:09:48.351651',\n",
       " 'format': 'HDF5::Cooler',\n",
       " 'format-url': 'https://github.com/mirnylab/cooler',\n",
       " 'format-version': 3,\n",
       " 'generated-by': 'HiCMatrix-17.2',\n",
       " 'generated-by-cooler-lib': 'cooler-0.10.2',\n",
       " 'genome-assembly': 'unknown',\n",
       " 'metadata': {'format': 'HDF5::Cooler',\n",
       "  'format-url': 'https://github.com/mirnylab/cooler',\n",
       "  'generated-by': 'HiCMatrix-17.2',\n",
       "  'generated-by-cooler-lib': 'cooler-0.10.2',\n",
       "  'tool-url': 'https://github.com/deeptools/HiCMatrix'},\n",
       " 'nbins': 2725549,\n",
       " 'nchroms': 22,\n",
       " 'nnz': 278597354,\n",
       " 'storage-mode': 'symmetric-upper',\n",
       " 'sum': 1820340.4290344473,\n",
       " 'tool-url': 'https://github.com/deeptools/HiCMatrix'}"
      ]
     },
     "execution_count": 19,
     "metadata": {},
     "output_type": "execute_result"
    }
   ],
   "source": [
    "COOLDIR     = '../data/cool_norm_pooled'\n",
    "NAME        = 'GSE178982_AsyncUT_pooled'\n",
    "RES         = 1000\n",
    "pre_norm = cooler.Cooler(f'{COOLDIR}/{NAME}_{RES}bp_KR.cool')\n",
    "pre_norm.info"
   ]
  },
  {
   "cell_type": "code",
   "execution_count": 20,
   "id": "e629269f",
   "metadata": {},
   "outputs": [
    {
     "data": {
      "application/vnd.microsoft.datawrangler.viewer.v0+json": {
       "columns": [
        {
         "name": "index",
         "rawType": "int64",
         "type": "integer"
        },
        {
         "name": "chrom",
         "rawType": "category",
         "type": "unknown"
        },
        {
         "name": "start",
         "rawType": "int32",
         "type": "integer"
        },
        {
         "name": "end",
         "rawType": "int32",
         "type": "integer"
        },
        {
         "name": "weight",
         "rawType": "float64",
         "type": "float"
        }
       ],
       "ref": "95104709-3179-4413-8a8d-3c80283c1e5c",
       "rows": [
        [
         "0",
         "chr1",
         "0",
         "1000",
         "345.7763297270312"
        ],
        [
         "1",
         "chr1",
         "1000",
         "2000",
         "345.7763297270312"
        ],
        [
         "2",
         "chr1",
         "2000",
         "3000",
         "345.7763297270312"
        ],
        [
         "3",
         "chr1",
         "3000",
         "4000",
         "345.7763297270312"
        ],
        [
         "4",
         "chr1",
         "4000",
         "5000",
         "345.7763297270312"
        ],
        [
         "5",
         "chr1",
         "5000",
         "6000",
         "345.7763297270312"
        ],
        [
         "6",
         "chr1",
         "6000",
         "7000",
         "345.7763297270312"
        ],
        [
         "7",
         "chr1",
         "7000",
         "8000",
         "345.7763297270312"
        ],
        [
         "8",
         "chr1",
         "8000",
         "9000",
         "345.7763297270312"
        ],
        [
         "9",
         "chr1",
         "9000",
         "10000",
         "345.7763297270312"
        ],
        [
         "10",
         "chr1",
         "10000",
         "11000",
         "345.7763297270312"
        ],
        [
         "11",
         "chr1",
         "11000",
         "12000",
         "345.7763297270312"
        ],
        [
         "12",
         "chr1",
         "12000",
         "13000",
         "345.7763297270312"
        ],
        [
         "13",
         "chr1",
         "13000",
         "14000",
         "345.7763297270312"
        ],
        [
         "14",
         "chr1",
         "14000",
         "15000",
         "345.7763297270312"
        ],
        [
         "15",
         "chr1",
         "15000",
         "16000",
         "345.7763297270312"
        ],
        [
         "16",
         "chr1",
         "16000",
         "17000",
         "345.7763297270312"
        ],
        [
         "17",
         "chr1",
         "17000",
         "18000",
         "345.7763297270312"
        ],
        [
         "18",
         "chr1",
         "18000",
         "19000",
         "345.7763297270312"
        ],
        [
         "19",
         "chr1",
         "19000",
         "20000",
         "345.7763297270312"
        ],
        [
         "20",
         "chr1",
         "20000",
         "21000",
         "345.7763297270312"
        ],
        [
         "21",
         "chr1",
         "21000",
         "22000",
         "345.7763297270312"
        ],
        [
         "22",
         "chr1",
         "22000",
         "23000",
         "345.7763297270312"
        ],
        [
         "23",
         "chr1",
         "23000",
         "24000",
         "345.7763297270312"
        ],
        [
         "24",
         "chr1",
         "24000",
         "25000",
         "345.7763297270312"
        ],
        [
         "25",
         "chr1",
         "25000",
         "26000",
         "345.7763297270312"
        ],
        [
         "26",
         "chr1",
         "26000",
         "27000",
         "345.7763297270312"
        ],
        [
         "27",
         "chr1",
         "27000",
         "28000",
         "345.7763297270312"
        ],
        [
         "28",
         "chr1",
         "28000",
         "29000",
         "345.7763297270312"
        ],
        [
         "29",
         "chr1",
         "29000",
         "30000",
         "345.7763297270312"
        ],
        [
         "30",
         "chr1",
         "30000",
         "31000",
         "345.7763297270312"
        ],
        [
         "31",
         "chr1",
         "31000",
         "32000",
         "345.7763297270312"
        ],
        [
         "32",
         "chr1",
         "32000",
         "33000",
         "345.7763297270312"
        ],
        [
         "33",
         "chr1",
         "33000",
         "34000",
         "345.7763297270312"
        ],
        [
         "34",
         "chr1",
         "34000",
         "35000",
         "345.7763297270312"
        ],
        [
         "35",
         "chr1",
         "35000",
         "36000",
         "345.7763297270312"
        ],
        [
         "36",
         "chr1",
         "36000",
         "37000",
         "345.7763297270312"
        ],
        [
         "37",
         "chr1",
         "37000",
         "38000",
         "345.7763297270312"
        ],
        [
         "38",
         "chr1",
         "38000",
         "39000",
         "345.7763297270312"
        ],
        [
         "39",
         "chr1",
         "39000",
         "40000",
         "345.7763297270312"
        ],
        [
         "40",
         "chr1",
         "40000",
         "41000",
         "345.7763297270312"
        ],
        [
         "41",
         "chr1",
         "41000",
         "42000",
         "345.7763297270312"
        ],
        [
         "42",
         "chr1",
         "42000",
         "43000",
         "345.7763297270312"
        ],
        [
         "43",
         "chr1",
         "43000",
         "44000",
         "345.7763297270312"
        ],
        [
         "44",
         "chr1",
         "44000",
         "45000",
         "345.7763297270312"
        ],
        [
         "45",
         "chr1",
         "45000",
         "46000",
         "345.7763297270312"
        ],
        [
         "46",
         "chr1",
         "46000",
         "47000",
         "345.7763297270312"
        ],
        [
         "47",
         "chr1",
         "47000",
         "48000",
         "345.7763297270312"
        ],
        [
         "48",
         "chr1",
         "48000",
         "49000",
         "345.7763297270312"
        ],
        [
         "49",
         "chr1",
         "49000",
         "50000",
         "345.7763297270312"
        ]
       ],
       "shape": {
        "columns": 4,
        "rows": 2725549
       }
      },
      "text/html": [
       "<div>\n",
       "<style scoped>\n",
       "    .dataframe tbody tr th:only-of-type {\n",
       "        vertical-align: middle;\n",
       "    }\n",
       "\n",
       "    .dataframe tbody tr th {\n",
       "        vertical-align: top;\n",
       "    }\n",
       "\n",
       "    .dataframe thead th {\n",
       "        text-align: right;\n",
       "    }\n",
       "</style>\n",
       "<table border=\"1\" class=\"dataframe\">\n",
       "  <thead>\n",
       "    <tr style=\"text-align: right;\">\n",
       "      <th></th>\n",
       "      <th>chrom</th>\n",
       "      <th>start</th>\n",
       "      <th>end</th>\n",
       "      <th>weight</th>\n",
       "    </tr>\n",
       "  </thead>\n",
       "  <tbody>\n",
       "    <tr>\n",
       "      <th>0</th>\n",
       "      <td>chr1</td>\n",
       "      <td>0</td>\n",
       "      <td>1000</td>\n",
       "      <td>345.77633</td>\n",
       "    </tr>\n",
       "    <tr>\n",
       "      <th>1</th>\n",
       "      <td>chr1</td>\n",
       "      <td>1000</td>\n",
       "      <td>2000</td>\n",
       "      <td>345.77633</td>\n",
       "    </tr>\n",
       "    <tr>\n",
       "      <th>2</th>\n",
       "      <td>chr1</td>\n",
       "      <td>2000</td>\n",
       "      <td>3000</td>\n",
       "      <td>345.77633</td>\n",
       "    </tr>\n",
       "    <tr>\n",
       "      <th>3</th>\n",
       "      <td>chr1</td>\n",
       "      <td>3000</td>\n",
       "      <td>4000</td>\n",
       "      <td>345.77633</td>\n",
       "    </tr>\n",
       "    <tr>\n",
       "      <th>4</th>\n",
       "      <td>chr1</td>\n",
       "      <td>4000</td>\n",
       "      <td>5000</td>\n",
       "      <td>345.77633</td>\n",
       "    </tr>\n",
       "    <tr>\n",
       "      <th>...</th>\n",
       "      <td>...</td>\n",
       "      <td>...</td>\n",
       "      <td>...</td>\n",
       "      <td>...</td>\n",
       "    </tr>\n",
       "    <tr>\n",
       "      <th>2725544</th>\n",
       "      <td>chrY</td>\n",
       "      <td>91740000</td>\n",
       "      <td>91741000</td>\n",
       "      <td>345.77633</td>\n",
       "    </tr>\n",
       "    <tr>\n",
       "      <th>2725545</th>\n",
       "      <td>chrY</td>\n",
       "      <td>91741000</td>\n",
       "      <td>91742000</td>\n",
       "      <td>345.77633</td>\n",
       "    </tr>\n",
       "    <tr>\n",
       "      <th>2725546</th>\n",
       "      <td>chrY</td>\n",
       "      <td>91742000</td>\n",
       "      <td>91743000</td>\n",
       "      <td>345.77633</td>\n",
       "    </tr>\n",
       "    <tr>\n",
       "      <th>2725547</th>\n",
       "      <td>chrY</td>\n",
       "      <td>91743000</td>\n",
       "      <td>91744000</td>\n",
       "      <td>345.77633</td>\n",
       "    </tr>\n",
       "    <tr>\n",
       "      <th>2725548</th>\n",
       "      <td>chrY</td>\n",
       "      <td>91744000</td>\n",
       "      <td>91744698</td>\n",
       "      <td>345.77633</td>\n",
       "    </tr>\n",
       "  </tbody>\n",
       "</table>\n",
       "<p>2725549 rows × 4 columns</p>\n",
       "</div>"
      ],
      "text/plain": [
       "        chrom     start       end     weight\n",
       "0        chr1         0      1000  345.77633\n",
       "1        chr1      1000      2000  345.77633\n",
       "2        chr1      2000      3000  345.77633\n",
       "3        chr1      3000      4000  345.77633\n",
       "4        chr1      4000      5000  345.77633\n",
       "...       ...       ...       ...        ...\n",
       "2725544  chrY  91740000  91741000  345.77633\n",
       "2725545  chrY  91741000  91742000  345.77633\n",
       "2725546  chrY  91742000  91743000  345.77633\n",
       "2725547  chrY  91743000  91744000  345.77633\n",
       "2725548  chrY  91744000  91744698  345.77633\n",
       "\n",
       "[2725549 rows x 4 columns]"
      ]
     },
     "execution_count": 20,
     "metadata": {},
     "output_type": "execute_result"
    }
   ],
   "source": [
    "pre_norm.bins()[:]"
   ]
  },
  {
   "cell_type": "code",
   "execution_count": null,
   "id": "5749155e",
   "metadata": {},
   "outputs": [],
   "source": [
    "\n",
    "\n",
    "\n",
    "Current problem is that the sum is not properlly labled in publish dataset. Check the sequencing depth first, it is only 601 M, and also check why\n",
    "\n",
    "my mcool doesn't have sum, \n",
    "but has sum in the res specific extracted & normalized"
   ]
  }
 ],
 "metadata": {
  "kernelspec": {
   "display_name": "Python 3 (ipykernel)",
   "language": "python",
   "name": "python3"
  },
  "language_info": {
   "codemirror_mode": {
    "name": "ipython",
    "version": 3
   },
   "file_extension": ".py",
   "mimetype": "text/x-python",
   "name": "python",
   "nbconvert_exporter": "python",
   "pygments_lexer": "ipython3",
   "version": "3.12.4"
  }
 },
 "nbformat": 4,
 "nbformat_minor": 5
}
